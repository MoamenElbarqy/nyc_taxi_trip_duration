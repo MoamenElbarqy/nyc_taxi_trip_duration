{
 "cells": [
  {
   "cell_type": "code",
   "execution_count": null,
   "id": "11168611be194480",
   "metadata": {},
   "outputs": [
    {
     "ename": "",
     "evalue": "",
     "output_type": "error",
     "traceback": [
      "\u001b[1;31mRunning cells with 'Python 3.13.3' requires the ipykernel package.\n",
      "\u001b[1;31m<a href='command:jupyter.createPythonEnvAndSelectController'>Create a Python Environment</a> with the required packages.\n",
      "\u001b[1;31mOr install 'ipykernel' using the command: '/usr/bin/python3 -m pip install ipykernel -U --user --force-reinstall'"
     ]
    }
   ],
   "source": [
    "import pandas as pd\n",
    "import numpy as np\n",
    "import matplotlib.pyplot as plt"
   ]
  },
  {
   "cell_type": "markdown",
   "id": "8d8ad546-69f7-49a5-9f39-bb62b0479299",
   "metadata": {},
   "source": [
    "Loading Data Sets"
   ]
  },
  {
   "cell_type": "code",
   "execution_count": null,
   "id": "1a60db2f-ed13-45e7-990f-8bb44c9eabff",
   "metadata": {},
   "outputs": [],
   "source": [
    "df_train = pd.read_csv(\"/home/moamen/data_sets/1 project-nyc-taxi-trip-duration/split/train.csv\")\n",
    "df_val = pd.read_csv(\"/home/moamen/data_sets/1 project-nyc-taxi-trip-duration/split/val.csv\")\n",
    "df_test = pd.read_csv(\"/home/moamen/data_sets/1 project-nyc-taxi-trip-duration/split/test.csv\")"
   ]
  },
  {
   "cell_type": "markdown",
   "id": "e7f3319e-76fa-4131-982c-0d0938b71ef2",
   "metadata": {},
   "source": [
    "How Many Rows and Features in Our Data Sets"
   ]
  },
  {
   "cell_type": "code",
   "execution_count": null,
   "id": "fc1a8fda-49a8-4fb6-ada9-ff9fd5f5b56c",
   "metadata": {},
   "outputs": [],
   "source": [
    "df_train.shape"
   ]
  },
  {
   "cell_type": "code",
   "execution_count": null,
   "id": "18e2c290-9ff3-42d7-9bb6-fd50f82fbf38",
   "metadata": {},
   "outputs": [],
   "source": [
    "df_train.head()"
   ]
  },
  {
   "cell_type": "code",
   "execution_count": null,
   "id": "6a97a88c-fbef-496b-9756-6e4b47e806bd",
   "metadata": {},
   "outputs": [],
   "source": [
    "df_train.info()"
   ]
  },
  {
   "cell_type": "markdown",
   "id": "b3525358-0582-4138-af56-9fe5ce5dd06b",
   "metadata": {},
   "source": [
    "We Have 7 numerical columns and we will add another one later and 3 object columns we will drop 1 of them (id)"
   ]
  },
  {
   "cell_type": "markdown",
   "id": "58b74deb-e2d9-490b-9385-d6a637b95569",
   "metadata": {},
   "source": [
    "Let's Check Is If The range Of :\n",
    "1. Longitude [-90 , 90]\n",
    "2. Latitude [-180, 180]\n",
    "3. Passenger Numbers must be >= 0"
   ]
  },
  {
   "cell_type": "code",
   "execution_count": null,
   "id": "e440bac4-9a7a-4fe9-93d4-97d5be62b3f8",
   "metadata": {},
   "outputs": [],
   "source": [
    "df_train.describe().T"
   ]
  },
  {
   "cell_type": "markdown",
   "id": "984f210f-2814-4b29-b48e-a83fb1d388f7",
   "metadata": {},
   "source": [
    "The Columns' -We Have Mentioned- values Range is Natural"
   ]
  },
  {
   "cell_type": "markdown",
   "id": "d9b8e57c-8eeb-427d-8fbc-39734220a0e7",
   "metadata": {},
   "source": [
    "There Is Outlier or missleading rows in our(trip_duration) column, the third quartile is **1074 Sec** and the max is **2.2 * 10^6 sec** About 25 Day \n",
    "This is Incridble for a nyc taxi trip, we Need To Filter this Outliers, We Can Filter The Trips Exceedes One Day"
   ]
  },
  {
   "cell_type": "code",
   "execution_count": null,
   "id": "e1198c0a-760d-486c-9a99-d0261b5d07f9",
   "metadata": {},
   "outputs": [],
   "source": [
    "df_train = df_train[(df_train['trip_duration'] > 60) & (df_train['trip_duration'] < 86400)]  "
   ]
  },
  {
   "cell_type": "markdown",
   "id": "60ff7311-ca49-4573-b855-9f646c662b91",
   "metadata": {},
   "source": [
    "We Will Extract a new Feature From These Features -> **Great Circle Distance**"
   ]
  },
  {
   "cell_type": "code",
   "execution_count": null,
   "id": "bbab0962-0ac4-4187-91fa-9b6ece629d88",
   "metadata": {},
   "outputs": [],
   "source": [
    "longitude_a = df_train['pickup_longitude'].to_numpy()\n",
    "latitude_a = df_train['pickup_latitude'].to_numpy()\n",
    "longitude_b = df_train['dropoff_longitude'].to_numpy()\n",
    "latitude_b = df_train['dropoff_latitude'].to_numpy()"
   ]
  },
  {
   "cell_type": "markdown",
   "id": "21f90c21-45ca-4f15-90cf-2b6bf3dc9084",
   "metadata": {},
   "source": [
    "This is The Formula We Used To Generate The Great Circle Distance called **Haversine** Between Two Points If You Have \n",
    "Thier logitude and latitude"
   ]
  },
  {
   "cell_type": "code",
   "execution_count": null,
   "id": "8532c38a-fe1f-416a-8dc7-844f0d252568",
   "metadata": {},
   "outputs": [],
   "source": [
    "def haversine(lat1: np.ndarray, lon1: np.ndarray, lat2: np.ndarray, lon2: np.ndarray) -> np.ndarray:\n",
    "    R = 6371.0  # Radius of Earth in kilometers\n",
    "\n",
    "    # Convert degrees to radians\n",
    "    lat1 = np.radians(lat1)\n",
    "    lon1 = np.radians(lon1)\n",
    "    lat2 = np.radians(lat2)\n",
    "    lon2 = np.radians(lon2)\n",
    "    \n",
    "    # Differences between coordinates\n",
    "    dlat = lat2 - lat1\n",
    "    dlon = lon2 - lon1\n",
    "\n",
    "    # Haversine formula\n",
    "    a = np.sin(dlat / 2.0)**2 + np.cos(lat1) * np.cos(lat2) * np.sin(dlon / 2.0)**2\n",
    "    \n",
    "    # Fix precision errors: ensure a is within [0, 1]\n",
    "    a = np.clip(a, 0, 1)\n",
    "\n",
    "    # Central angle\n",
    "    c = 2 * np.arctan2(np.sqrt(a), np.sqrt(1 - a))\n",
    "\n",
    "    # Distance in kilometers\n",
    "    distance = R * c\n",
    "    return distance\n"
   ]
  },
  {
   "cell_type": "code",
   "execution_count": null,
   "id": "7bd7e584-b443-4554-af22-4811b88bbb32",
   "metadata": {},
   "outputs": [],
   "source": [
    "df_train.insert(loc=len(df_train.columns) -1, column='Distance', value=pd.DataFrame(haversine(longitude_a, latitude_a, longitude_b, latitude_b)))"
   ]
  },
  {
   "cell_type": "markdown",
   "id": "021b39a3-f1f1-44d7-b44d-79138708e797",
   "metadata": {},
   "source": [
    "Let's See The New Column Statistics"
   ]
  },
  {
   "cell_type": "code",
   "execution_count": null,
   "id": "40e00f30-76c8-4585-bd86-63abeb322ed4",
   "metadata": {},
   "outputs": [],
   "source": [
    "df_train['Distance'].describe().T"
   ]
  },
  {
   "cell_type": "code",
   "execution_count": null,
   "id": "a4cf8af7-c538-4b2a-8724-366aeda0a877",
   "metadata": {
    "scrolled": true
   },
   "outputs": [],
   "source": [
    "plt.figure(figsize=(10, 6))\n",
    "plt.scatter(df_train['Distance'], df_train['trip_duration'], alpha=0.25)\n",
    "plt.title(\"Using scatter\")\n",
    "plt.xlabel(\"Great Circle Distance\")\n",
    "plt.ylabel(\"Trip Duration\")\n",
    "plt.show()"
   ]
  },
  {
   "cell_type": "markdown",
   "id": "a47813f1-cb78-4d69-ae90-e33150000717",
   "metadata": {},
   "source": [
    "We See The RealationShip **Is not Linear** because there a lot of Factors Affecting The Trip Duration\n",
    "Ex: \n",
    "- The Distance Might Be Low But The road may have high traffic in this trip"
   ]
  },
  {
   "cell_type": "markdown",
   "id": "e5d55777-84d7-495b-bd8d-6107f52eb8eb",
   "metadata": {},
   "source": [
    "Let's check how many null-values in the train, val and test set"
   ]
  },
  {
   "cell_type": "code",
   "execution_count": null,
   "id": "e346ca24-1821-42cd-8b1e-9c212bcf1381",
   "metadata": {},
   "outputs": [],
   "source": [
    "df_train.isna().sum()"
   ]
  },
  {
   "cell_type": "markdown",
   "id": "a34efc41-0d27-4475-9170-6405fd62f3b9",
   "metadata": {},
   "source": [
    "**There isn't any null-values in the Original Data**, But We Have a few null values in the column we generated\n",
    "\n",
    "**How not null data generates null data?!**\n",
    "\n",
    "Let's Explore Is there **Invalid Data** in the origianl data set"
   ]
  },
  {
   "cell_type": "code",
   "execution_count": null,
   "id": "673d84d1-98e1-49a3-ba33-bfb5a9af6286",
   "metadata": {},
   "outputs": [],
   "source": [
    "df_train.describe().T"
   ]
  },
  {
   "cell_type": "markdown",
   "id": "8455cae2-1ecf-4aa6-93fd-1707bc05749a",
   "metadata": {},
   "source": [
    "For Now We Will Drop The NUll values in Distance, until we Make The BaseLine Model "
   ]
  },
  {
   "cell_type": "code",
   "execution_count": null,
   "id": "4b92a760-62f0-4d6c-a591-58c6b31720c0",
   "metadata": {},
   "outputs": [],
   "source": [
    "df_train = df_train[df_train['Distance'].notnull()]\n",
    "df_train.isna().sum()"
   ]
  },
  {
   "cell_type": "code",
   "execution_count": null,
   "id": "a3704d0d-dc32-4241-a4de-eb0191e7478e",
   "metadata": {},
   "outputs": [],
   "source": [
    "df_train['store_and_fwd_flag']"
   ]
  },
  {
   "cell_type": "markdown",
   "id": "da7a733f-67c0-4c62-9c7c-5da54d74b8d5",
   "metadata": {},
   "source": [
    "This flag indicates whether the trip record was held in vehicle memory before\n",
    "sending to the vendor, aka “store and forward,” because the vehicle did not\n",
    "have a connection to the server.\n",
    "Y = store and forward trip\n",
    "N = not a store and forward trip"
   ]
  },
  {
   "cell_type": "markdown",
   "id": "203256a8-8b5d-4c54-8d3b-80b1e8ca681a",
   "metadata": {},
   "source": [
    "Let's Viualize How Many Store and Forward Trips "
   ]
  },
  {
   "cell_type": "code",
   "execution_count": null,
   "id": "8d0668ed-d049-4872-a9a6-9c580c6c796b",
   "metadata": {},
   "outputs": [],
   "source": [
    "df_train['store_and_fwd_flag'].value_counts()"
   ]
  },
  {
   "cell_type": "code",
   "execution_count": null,
   "id": "f828b2a3-6b7c-43af-a4f1-897b30ab4df8",
   "metadata": {},
   "outputs": [],
   "source": [
    "status = ['Y = store and forward trip', 'N = not a store and forward trip']\n",
    "counts = [(df_train['store_and_fwd_flag'] == 'Y').sum(), (df_train['store_and_fwd_flag'] == 'N').sum()]\n",
    "plt.bar(status, counts)\n",
    "plt.title('store_and_fwd_status')\n",
    "plt.xlabel('Status')\n",
    "plt.ylabel('Counts')\n",
    "plt.tight_layout()\n",
    "plt.show()"
   ]
  },
  {
   "cell_type": "markdown",
   "id": "14dc76c1-9c11-4c62-a6b2-4e17a0be5032",
   "metadata": {},
   "source": [
    "Observation:\n",
    "- Y is not zero but it is very small if we compare it with N"
   ]
  },
  {
   "cell_type": "markdown",
   "id": "fce1836d-9fb4-489f-b55c-e2b25209b18f",
   "metadata": {},
   "source": [
    "I Noticed The Time Of The Trip Maybe Affecting The Trip Duration, Imagin You Drive Your Car About 3 or 5 am\n",
    "There is a big Chance To Reach Your Distnation Faster Than if You Drive Your Car in The Crowded Steets About 12 to 2 pm\n",
    ",so We Can Categorize The Time Zones Into about 3 or 4 categoreis \n",
    "- 12 am to 4 am\n",
    "- 5 am to 11 am\n",
    "- 12 pm to 4 pm\n",
    "- 5 pm to 11 pm\n",
    "\n",
    "Let's Binning the Time Data"
   ]
  },
  {
   "cell_type": "code",
   "execution_count": null,
   "id": "c0331e90-c856-4cf1-9096-fb21dbe8348b",
   "metadata": {},
   "outputs": [],
   "source": [
    "df_train['pickup_datetime'] = pd.to_datetime(df_train['pickup_datetime'])\n",
    "\n",
    "df_train.insert(loc=len(df_train.columns) - 1, column='hour', value=df_train['pickup_datetime'].dt.hour)\n",
    "\n",
    "bins = [0, 4, 11, 16, 23]\n",
    "\n",
    "labels = [\"12 am to 4 am\", \"5 am to 11 am\", \"12 pm to 4 pm\", \"5 pm to 11 pm\"]\n",
    "\n",
    "df_train.insert(loc=len(df_train.columns) - 1, column='time_category', value=pd.cut(df_train['hour'], bins=bins, labels=labels, include_lowest=True))\n"
   ]
  },
  {
   "cell_type": "code",
   "execution_count": null,
   "id": "c9a00230-44fe-476d-9a60-1f684ba10ded",
   "metadata": {},
   "outputs": [],
   "source": [
    "mapping = {\n",
    "    \"12 am to 4 am\": 1,\n",
    "    \"5 am to 11 am\": 2,\n",
    "    \"12 pm to 4 pm\": 4,\n",
    "    \"5 pm to 11 pm\": 3\n",
    "}\n",
    "\n",
    "df_train['time_category'] = df_train['time_category'].map(mapping)\n"
   ]
  },
  {
   "cell_type": "code",
   "execution_count": null,
   "id": "7401d451-de9f-455a-bd98-c3de6f838161",
   "metadata": {},
   "outputs": [],
   "source": [
    "df_train.head()"
   ]
  },
  {
   "cell_type": "code",
   "execution_count": null,
   "id": "3caa71a9-7df7-4789-91ba-8815f871957c",
   "metadata": {
    "scrolled": true
   },
   "outputs": [],
   "source": [
    "df_train.drop(columns=[ 'id', 'pickup_datetime', 'store_and_fwd_flag' ,'hour'], inplace=True)"
   ]
  },
  {
   "cell_type": "markdown",
   "id": "0ed34584-f68a-49ff-b75c-9392de63f2b2",
   "metadata": {},
   "source": [
    "Now We Can Drop Id Column, However we shouldn't dropping the vendor id column because different vendors may providing \n",
    "different cars which mabye vendor 1 cars is faster than vendor 2 cars\n",
    "\n",
    "Now After Dropping Unimportant Columns And Replace Some Of Them by New Columns Like Time Category\n",
    "\n",
    "The Ascending Order Have Meaning The number 4 Means mostly crowded time Afficing the Time Duration\n",
    "\n",
    "and 1 is the minmum Crowdness in Roads from my common sense\n",
    "\n",
    "store_and_fwd_flag, i think this column doesn't have impact on the trip duration so i dropped it \n",
    "\n",
    "we Have replaced the pickup datetime"
   ]
  },
  {
   "cell_type": "code",
   "execution_count": null,
   "id": "44f6e637-d885-4ac1-9b4f-30d1eecf3c6b",
   "metadata": {},
   "outputs": [],
   "source": [
    "df_train.head()"
   ]
  }
 ],
 "metadata": {
  "kernelspec": {
   "display_name": "Python 3",
   "language": "python",
   "name": "python3"
  },
  "language_info": {
   "codemirror_mode": {
    "name": "ipython",
    "version": 3
   },
   "file_extension": ".py",
   "mimetype": "text/x-python",
   "name": "python",
   "nbconvert_exporter": "python",
   "pygments_lexer": "ipython3",
   "version": "3.13.3"
  }
 },
 "nbformat": 4,
 "nbformat_minor": 5
}
