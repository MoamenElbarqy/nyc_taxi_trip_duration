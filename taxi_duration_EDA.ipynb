{
 "cells": [
  {
   "cell_type": "code",
   "execution_count": 26,
   "id": "11168611be194480",
   "metadata": {},
   "outputs": [],
   "source": [
    "import pandas as pd\n",
    "import numpy as np\n",
    "import matplotlib.pyplot as plt"
   ]
  },
  {
   "cell_type": "markdown",
   "id": "8d8ad546-69f7-49a5-9f39-bb62b0479299",
   "metadata": {},
   "source": [
    "Loading Data Sets"
   ]
  },
  {
   "cell_type": "code",
   "execution_count": 27,
   "id": "1a60db2f-ed13-45e7-990f-8bb44c9eabff",
   "metadata": {},
   "outputs": [],
   "source": [
    "df_train = pd.read_csv(\"datasets/train.csv\")\n",
    "df_val = pd.read_csv(\"datasets/val.csv\")\n",
    "df_test = pd.read_csv(\"datasets/test.csv\")"
   ]
  },
  {
   "cell_type": "markdown",
   "id": "e7f3319e-76fa-4131-982c-0d0938b71ef2",
   "metadata": {},
   "source": [
    "How Many Rows and Features in Our Data Sets"
   ]
  },
  {
   "cell_type": "code",
   "execution_count": 28,
   "id": "fc1a8fda-49a8-4fb6-ada9-ff9fd5f5b56c",
   "metadata": {},
   "outputs": [
    {
     "data": {
      "text/plain": [
       "(1000000, 10)"
      ]
     },
     "execution_count": 28,
     "metadata": {},
     "output_type": "execute_result"
    }
   ],
   "source": [
    "df_train.shape"
   ]
  },
  {
   "cell_type": "code",
   "execution_count": 29,
   "id": "18e2c290-9ff3-42d7-9bb6-fd50f82fbf38",
   "metadata": {},
   "outputs": [
    {
     "data": {
      "text/html": [
       "<div>\n",
       "<style scoped>\n",
       "    .dataframe tbody tr th:only-of-type {\n",
       "        vertical-align: middle;\n",
       "    }\n",
       "\n",
       "    .dataframe tbody tr th {\n",
       "        vertical-align: top;\n",
       "    }\n",
       "\n",
       "    .dataframe thead th {\n",
       "        text-align: right;\n",
       "    }\n",
       "</style>\n",
       "<table border=\"1\" class=\"dataframe\">\n",
       "  <thead>\n",
       "    <tr style=\"text-align: right;\">\n",
       "      <th></th>\n",
       "      <th>id</th>\n",
       "      <th>vendor_id</th>\n",
       "      <th>pickup_datetime</th>\n",
       "      <th>passenger_count</th>\n",
       "      <th>pickup_longitude</th>\n",
       "      <th>pickup_latitude</th>\n",
       "      <th>dropoff_longitude</th>\n",
       "      <th>dropoff_latitude</th>\n",
       "      <th>store_and_fwd_flag</th>\n",
       "      <th>trip_duration</th>\n",
       "    </tr>\n",
       "  </thead>\n",
       "  <tbody>\n",
       "    <tr>\n",
       "      <th>0</th>\n",
       "      <td>id2793718</td>\n",
       "      <td>2</td>\n",
       "      <td>2016-06-08 07:36:19</td>\n",
       "      <td>1</td>\n",
       "      <td>-73.985611</td>\n",
       "      <td>40.735943</td>\n",
       "      <td>-73.980331</td>\n",
       "      <td>40.760468</td>\n",
       "      <td>N</td>\n",
       "      <td>1040</td>\n",
       "    </tr>\n",
       "    <tr>\n",
       "      <th>1</th>\n",
       "      <td>id3485529</td>\n",
       "      <td>2</td>\n",
       "      <td>2016-04-03 12:58:11</td>\n",
       "      <td>1</td>\n",
       "      <td>-73.978394</td>\n",
       "      <td>40.764351</td>\n",
       "      <td>-73.991623</td>\n",
       "      <td>40.749859</td>\n",
       "      <td>N</td>\n",
       "      <td>827</td>\n",
       "    </tr>\n",
       "    <tr>\n",
       "      <th>2</th>\n",
       "      <td>id1816614</td>\n",
       "      <td>2</td>\n",
       "      <td>2016-06-05 02:49:13</td>\n",
       "      <td>5</td>\n",
       "      <td>-73.989059</td>\n",
       "      <td>40.744389</td>\n",
       "      <td>-73.973381</td>\n",
       "      <td>40.748692</td>\n",
       "      <td>N</td>\n",
       "      <td>614</td>\n",
       "    </tr>\n",
       "    <tr>\n",
       "      <th>3</th>\n",
       "      <td>id1050851</td>\n",
       "      <td>2</td>\n",
       "      <td>2016-05-05 17:18:27</td>\n",
       "      <td>2</td>\n",
       "      <td>-73.990326</td>\n",
       "      <td>40.731136</td>\n",
       "      <td>-73.991264</td>\n",
       "      <td>40.748917</td>\n",
       "      <td>N</td>\n",
       "      <td>867</td>\n",
       "    </tr>\n",
       "    <tr>\n",
       "      <th>4</th>\n",
       "      <td>id0140657</td>\n",
       "      <td>1</td>\n",
       "      <td>2016-05-12 17:43:38</td>\n",
       "      <td>4</td>\n",
       "      <td>-73.789497</td>\n",
       "      <td>40.646675</td>\n",
       "      <td>-73.987137</td>\n",
       "      <td>40.759232</td>\n",
       "      <td>N</td>\n",
       "      <td>4967</td>\n",
       "    </tr>\n",
       "  </tbody>\n",
       "</table>\n",
       "</div>"
      ],
      "text/plain": [
       "          id  vendor_id      pickup_datetime  passenger_count  \\\n",
       "0  id2793718          2  2016-06-08 07:36:19                1   \n",
       "1  id3485529          2  2016-04-03 12:58:11                1   \n",
       "2  id1816614          2  2016-06-05 02:49:13                5   \n",
       "3  id1050851          2  2016-05-05 17:18:27                2   \n",
       "4  id0140657          1  2016-05-12 17:43:38                4   \n",
       "\n",
       "   pickup_longitude  pickup_latitude  dropoff_longitude  dropoff_latitude  \\\n",
       "0        -73.985611        40.735943         -73.980331         40.760468   \n",
       "1        -73.978394        40.764351         -73.991623         40.749859   \n",
       "2        -73.989059        40.744389         -73.973381         40.748692   \n",
       "3        -73.990326        40.731136         -73.991264         40.748917   \n",
       "4        -73.789497        40.646675         -73.987137         40.759232   \n",
       "\n",
       "  store_and_fwd_flag  trip_duration  \n",
       "0                  N           1040  \n",
       "1                  N            827  \n",
       "2                  N            614  \n",
       "3                  N            867  \n",
       "4                  N           4967  "
      ]
     },
     "execution_count": 29,
     "metadata": {},
     "output_type": "execute_result"
    }
   ],
   "source": [
    "df_train.head()"
   ]
  },
  {
   "cell_type": "code",
   "execution_count": 30,
   "id": "6a97a88c-fbef-496b-9756-6e4b47e806bd",
   "metadata": {},
   "outputs": [
    {
     "name": "stdout",
     "output_type": "stream",
     "text": [
      "<class 'pandas.core.frame.DataFrame'>\n",
      "RangeIndex: 1000000 entries, 0 to 999999\n",
      "Data columns (total 10 columns):\n",
      " #   Column              Non-Null Count    Dtype  \n",
      "---  ------              --------------    -----  \n",
      " 0   id                  1000000 non-null  object \n",
      " 1   vendor_id           1000000 non-null  int64  \n",
      " 2   pickup_datetime     1000000 non-null  object \n",
      " 3   passenger_count     1000000 non-null  int64  \n",
      " 4   pickup_longitude    1000000 non-null  float64\n",
      " 5   pickup_latitude     1000000 non-null  float64\n",
      " 6   dropoff_longitude   1000000 non-null  float64\n",
      " 7   dropoff_latitude    1000000 non-null  float64\n",
      " 8   store_and_fwd_flag  1000000 non-null  object \n",
      " 9   trip_duration       1000000 non-null  int64  \n",
      "dtypes: float64(4), int64(3), object(3)\n",
      "memory usage: 76.3+ MB\n"
     ]
    }
   ],
   "source": [
    "df_train.info()"
   ]
  },
  {
   "cell_type": "markdown",
   "id": "b3525358-0582-4138-af56-9fe5ce5dd06b",
   "metadata": {},
   "source": [
    "We Have 7 numerical columns and we will add another one later and 3 object columns we will drop 1 of them (id)"
   ]
  },
  {
   "cell_type": "markdown",
   "id": "58b74deb-e2d9-490b-9385-d6a637b95569",
   "metadata": {},
   "source": [
    "Let's Check Is If The range Of :\n",
    "1. Longitude [-90 , 90]\n",
    "2. Latitude [-180, 180]\n",
    "3. Passenger Numbers must be >= 0"
   ]
  },
  {
   "cell_type": "code",
   "execution_count": 31,
   "id": "e440bac4-9a7a-4fe9-93d4-97d5be62b3f8",
   "metadata": {},
   "outputs": [
    {
     "data": {
      "text/html": [
       "<div>\n",
       "<style scoped>\n",
       "    .dataframe tbody tr th:only-of-type {\n",
       "        vertical-align: middle;\n",
       "    }\n",
       "\n",
       "    .dataframe tbody tr th {\n",
       "        vertical-align: top;\n",
       "    }\n",
       "\n",
       "    .dataframe thead th {\n",
       "        text-align: right;\n",
       "    }\n",
       "</style>\n",
       "<table border=\"1\" class=\"dataframe\">\n",
       "  <thead>\n",
       "    <tr style=\"text-align: right;\">\n",
       "      <th></th>\n",
       "      <th>count</th>\n",
       "      <th>mean</th>\n",
       "      <th>std</th>\n",
       "      <th>min</th>\n",
       "      <th>25%</th>\n",
       "      <th>50%</th>\n",
       "      <th>75%</th>\n",
       "      <th>max</th>\n",
       "    </tr>\n",
       "  </thead>\n",
       "  <tbody>\n",
       "    <tr>\n",
       "      <th>vendor_id</th>\n",
       "      <td>1000000.0</td>\n",
       "      <td>1.534793</td>\n",
       "      <td>0.498788</td>\n",
       "      <td>1.000000</td>\n",
       "      <td>1.000000</td>\n",
       "      <td>2.000000</td>\n",
       "      <td>2.000000</td>\n",
       "      <td>2.000000e+00</td>\n",
       "    </tr>\n",
       "    <tr>\n",
       "      <th>passenger_count</th>\n",
       "      <td>1000000.0</td>\n",
       "      <td>1.665353</td>\n",
       "      <td>1.315723</td>\n",
       "      <td>0.000000</td>\n",
       "      <td>1.000000</td>\n",
       "      <td>1.000000</td>\n",
       "      <td>2.000000</td>\n",
       "      <td>7.000000e+00</td>\n",
       "    </tr>\n",
       "    <tr>\n",
       "      <th>pickup_longitude</th>\n",
       "      <td>1000000.0</td>\n",
       "      <td>-73.973475</td>\n",
       "      <td>0.065404</td>\n",
       "      <td>-121.933342</td>\n",
       "      <td>-73.991852</td>\n",
       "      <td>-73.981728</td>\n",
       "      <td>-73.967346</td>\n",
       "      <td>-6.133553e+01</td>\n",
       "    </tr>\n",
       "    <tr>\n",
       "      <th>pickup_latitude</th>\n",
       "      <td>1000000.0</td>\n",
       "      <td>40.750947</td>\n",
       "      <td>0.033745</td>\n",
       "      <td>34.359695</td>\n",
       "      <td>40.737372</td>\n",
       "      <td>40.754131</td>\n",
       "      <td>40.768379</td>\n",
       "      <td>5.188108e+01</td>\n",
       "    </tr>\n",
       "    <tr>\n",
       "      <th>dropoff_longitude</th>\n",
       "      <td>1000000.0</td>\n",
       "      <td>-73.973421</td>\n",
       "      <td>0.065432</td>\n",
       "      <td>-121.933304</td>\n",
       "      <td>-73.991341</td>\n",
       "      <td>-73.979767</td>\n",
       "      <td>-73.963036</td>\n",
       "      <td>-6.133553e+01</td>\n",
       "    </tr>\n",
       "    <tr>\n",
       "      <th>dropoff_latitude</th>\n",
       "      <td>1000000.0</td>\n",
       "      <td>40.751829</td>\n",
       "      <td>0.035782</td>\n",
       "      <td>34.359695</td>\n",
       "      <td>40.735928</td>\n",
       "      <td>40.754551</td>\n",
       "      <td>40.769833</td>\n",
       "      <td>4.392103e+01</td>\n",
       "    </tr>\n",
       "    <tr>\n",
       "      <th>trip_duration</th>\n",
       "      <td>1000000.0</td>\n",
       "      <td>954.884971</td>\n",
       "      <td>3882.070116</td>\n",
       "      <td>1.000000</td>\n",
       "      <td>397.000000</td>\n",
       "      <td>662.000000</td>\n",
       "      <td>1074.000000</td>\n",
       "      <td>2.227612e+06</td>\n",
       "    </tr>\n",
       "  </tbody>\n",
       "</table>\n",
       "</div>"
      ],
      "text/plain": [
       "                       count        mean          std         min         25%  \\\n",
       "vendor_id          1000000.0    1.534793     0.498788    1.000000    1.000000   \n",
       "passenger_count    1000000.0    1.665353     1.315723    0.000000    1.000000   \n",
       "pickup_longitude   1000000.0  -73.973475     0.065404 -121.933342  -73.991852   \n",
       "pickup_latitude    1000000.0   40.750947     0.033745   34.359695   40.737372   \n",
       "dropoff_longitude  1000000.0  -73.973421     0.065432 -121.933304  -73.991341   \n",
       "dropoff_latitude   1000000.0   40.751829     0.035782   34.359695   40.735928   \n",
       "trip_duration      1000000.0  954.884971  3882.070116    1.000000  397.000000   \n",
       "\n",
       "                          50%          75%           max  \n",
       "vendor_id            2.000000     2.000000  2.000000e+00  \n",
       "passenger_count      1.000000     2.000000  7.000000e+00  \n",
       "pickup_longitude   -73.981728   -73.967346 -6.133553e+01  \n",
       "pickup_latitude     40.754131    40.768379  5.188108e+01  \n",
       "dropoff_longitude  -73.979767   -73.963036 -6.133553e+01  \n",
       "dropoff_latitude    40.754551    40.769833  4.392103e+01  \n",
       "trip_duration      662.000000  1074.000000  2.227612e+06  "
      ]
     },
     "execution_count": 31,
     "metadata": {},
     "output_type": "execute_result"
    }
   ],
   "source": [
    "df_train.describe().T"
   ]
  },
  {
   "cell_type": "markdown",
   "id": "984f210f-2814-4b29-b48e-a83fb1d388f7",
   "metadata": {},
   "source": [
    "The Columns' -We Have Mentioned- values Range is Natural"
   ]
  },
  {
   "cell_type": "markdown",
   "id": "d9b8e57c-8eeb-427d-8fbc-39734220a0e7",
   "metadata": {},
   "source": [
    "There Is Outlier or missleading rows in our(trip_duration) column, the third quartile is **1074 Sec** and the max is **2.2 * 10^6 sec** About 25 Day \n",
    "This is Incridble for a nyc taxi trip, we Need To Filter this Outliers, We Can Filter The Trips Exceedes One Day"
   ]
  },
  {
   "cell_type": "code",
   "execution_count": 32,
   "id": "e1198c0a-760d-486c-9a99-d0261b5d07f9",
   "metadata": {},
   "outputs": [],
   "source": [
    "df_train = df_train[(df_train['trip_duration'] > 60) & (df_train['trip_duration'] < 86400)]  "
   ]
  },
  {
   "cell_type": "markdown",
   "id": "60ff7311-ca49-4573-b855-9f646c662b91",
   "metadata": {},
   "source": [
    "We Will Extract a new Feature From These Features -> **Great Circle Distance**"
   ]
  },
  {
   "cell_type": "code",
   "execution_count": 33,
   "id": "bbab0962-0ac4-4187-91fa-9b6ece629d88",
   "metadata": {},
   "outputs": [],
   "source": [
    "longitude_a = df_train['pickup_longitude'].to_numpy()\n",
    "latitude_a = df_train['pickup_latitude'].to_numpy()\n",
    "longitude_b = df_train['dropoff_longitude'].to_numpy()\n",
    "latitude_b = df_train['dropoff_latitude'].to_numpy()"
   ]
  },
  {
   "cell_type": "markdown",
   "id": "21f90c21-45ca-4f15-90cf-2b6bf3dc9084",
   "metadata": {},
   "source": [
    "This is The Formula We Used To Generate The Great Circle Distance called **Haversine** Between Two Points If You Have \n",
    "Thier logitude and latitude"
   ]
  },
  {
   "cell_type": "code",
   "execution_count": 34,
   "id": "8532c38a-fe1f-416a-8dc7-844f0d252568",
   "metadata": {},
   "outputs": [],
   "source": [
    "def haversine(lat1: np.ndarray, lon1: np.ndarray, lat2: np.ndarray, lon2: np.ndarray) -> np.ndarray:\n",
    "    R = 6371.0  # Radius of Earth in kilometers\n",
    "\n",
    "    # Convert degrees to radians\n",
    "    lat1 = np.radians(lat1)\n",
    "    lon1 = np.radians(lon1)\n",
    "    lat2 = np.radians(lat2)\n",
    "    lon2 = np.radians(lon2)\n",
    "    \n",
    "    # Differences between coordinates\n",
    "    dlat = lat2 - lat1\n",
    "    dlon = lon2 - lon1\n",
    "\n",
    "    # Haversine formula\n",
    "    a = np.sin(dlat / 2.0)**2 + np.cos(lat1) * np.cos(lat2) * np.sin(dlon / 2.0)**2\n",
    "    \n",
    "    # Fix precision errors: ensure a is within [0, 1]\n",
    "    a = np.clip(a, 0, 1)\n",
    "\n",
    "    # Central angle\n",
    "    c = 2 * np.arctan2(np.sqrt(a), np.sqrt(1 - a))\n",
    "\n",
    "    # Distance in kilometers\n",
    "    distance = R * c\n",
    "    return distance\n"
   ]
  },
  {
   "cell_type": "code",
   "execution_count": 35,
   "id": "7bd7e584-b443-4554-af22-4811b88bbb32",
   "metadata": {},
   "outputs": [],
   "source": [
    "df_train.insert(loc=len(df_train.columns) -1, column='Distance', value=pd.DataFrame(haversine(latitude_a, longitude_a, latitude_b, longitude_b)))"
   ]
  },
  {
   "cell_type": "markdown",
   "id": "021b39a3-f1f1-44d7-b44d-79138708e797",
   "metadata": {},
   "source": [
    "Let's See The New Column Statistics"
   ]
  },
  {
   "cell_type": "code",
   "execution_count": 36,
   "id": "40e00f30-76c8-4585-bd86-63abeb322ed4",
   "metadata": {},
   "outputs": [
    {
     "data": {
      "text/plain": [
       "count    988147.000000\n",
       "mean          3.458832\n",
       "std           4.430494\n",
       "min           0.000000\n",
       "25%           1.244912\n",
       "50%           2.104644\n",
       "75%           3.889889\n",
       "max        1240.908677\n",
       "Name: Distance, dtype: float64"
      ]
     },
     "execution_count": 36,
     "metadata": {},
     "output_type": "execute_result"
    }
   ],
   "source": [
    "df_train['Distance'].describe().T"
   ]
  },
  {
   "cell_type": "code",
   "execution_count": 37,
   "id": "a4cf8af7-c538-4b2a-8724-366aeda0a877",
   "metadata": {
    "scrolled": true
   },
   "outputs": [
    {
     "data": {
      "image/png": "[encoded data removed]",
      "text/plain": [
       "<Figure size 1000x600 with 1 Axes>"
      ]
     },
     "metadata": {},
     "output_type": "display_data"
    }
   ],
   "source": [
    "plt.figure(figsize=(10, 6))\n",
    "plt.scatter(df_train['Distance'], df_train['trip_duration'], alpha=0.25)\n",
    "plt.title(\"Using scatter\")\n",
    "plt.xlabel(\"Great Circle Distance\")\n",
    "plt.ylabel(\"Trip Duration\")\n",
    "plt.show()"
   ]
  },
  {
   "cell_type": "markdown",
   "id": "a47813f1-cb78-4d69-ae90-e33150000717",
   "metadata": {},
   "source": [
    "We See The RealationShip **Is not Linear** because there a lot of Factors Affecting The Trip Duration\n",
    "Ex: \n",
    "- The Distance Might Be Low But The road may have high traffic in this trip"
   ]
  },
  {
   "cell_type": "markdown",
   "id": "e5d55777-84d7-495b-bd8d-6107f52eb8eb",
   "metadata": {},
   "source": [
    "Let's check how many null-values in the train, val and test set"
   ]
  },
  {
   "cell_type": "code",
   "execution_count": 38,
   "id": "e346ca24-1821-42cd-8b1e-9c212bcf1381",
   "metadata": {},
   "outputs": [
    {
     "data": {
      "text/plain": [
       "id                       0\n",
       "vendor_id                0\n",
       "pickup_datetime          0\n",
       "passenger_count          0\n",
       "pickup_longitude         0\n",
       "pickup_latitude          0\n",
       "dropoff_longitude        0\n",
       "dropoff_latitude         0\n",
       "store_and_fwd_flag       0\n",
       "Distance              5909\n",
       "trip_duration            0\n",
       "dtype: int64"
      ]
     },
     "execution_count": 38,
     "metadata": {},
     "output_type": "execute_result"
    }
   ],
   "source": [
    "df_train.isna().sum()"
   ]
  },
  {
   "cell_type": "markdown",
   "id": "a34efc41-0d27-4475-9170-6405fd62f3b9",
   "metadata": {},
   "source": [
    "**There isn't any null-values in the Data**\n",
    "Let's Explore Is there **Invalid Data** in the origianl data set"
   ]
  },
  {
   "cell_type": "code",
   "execution_count": 39,
   "id": "673d84d1-98e1-49a3-ba33-bfb5a9af6286",
   "metadata": {},
   "outputs": [
    {
     "data": {
      "text/html": [
       "<div>\n",
       "<style scoped>\n",
       "    .dataframe tbody tr th:only-of-type {\n",
       "        vertical-align: middle;\n",
       "    }\n",
       "\n",
       "    .dataframe tbody tr th {\n",
       "        vertical-align: top;\n",
       "    }\n",
       "\n",
       "    .dataframe thead th {\n",
       "        text-align: right;\n",
       "    }\n",
       "</style>\n",
       "<table border=\"1\" class=\"dataframe\">\n",
       "  <thead>\n",
       "    <tr style=\"text-align: right;\">\n",
       "      <th></th>\n",
       "      <th>count</th>\n",
       "      <th>mean</th>\n",
       "      <th>std</th>\n",
       "      <th>min</th>\n",
       "      <th>25%</th>\n",
       "      <th>50%</th>\n",
       "      <th>75%</th>\n",
       "      <th>max</th>\n",
       "    </tr>\n",
       "  </thead>\n",
       "  <tbody>\n",
       "    <tr>\n",
       "      <th>vendor_id</th>\n",
       "      <td>994056.0</td>\n",
       "      <td>1.535525</td>\n",
       "      <td>0.498737</td>\n",
       "      <td>1.000000</td>\n",
       "      <td>1.000000</td>\n",
       "      <td>2.000000</td>\n",
       "      <td>2.000000</td>\n",
       "      <td>2.000000</td>\n",
       "    </tr>\n",
       "    <tr>\n",
       "      <th>passenger_count</th>\n",
       "      <td>994056.0</td>\n",
       "      <td>1.666779</td>\n",
       "      <td>1.316856</td>\n",
       "      <td>0.000000</td>\n",
       "      <td>1.000000</td>\n",
       "      <td>1.000000</td>\n",
       "      <td>2.000000</td>\n",
       "      <td>6.000000</td>\n",
       "    </tr>\n",
       "    <tr>\n",
       "      <th>pickup_longitude</th>\n",
       "      <td>994056.0</td>\n",
       "      <td>-73.973591</td>\n",
       "      <td>0.065013</td>\n",
       "      <td>-121.933342</td>\n",
       "      <td>-73.991859</td>\n",
       "      <td>-73.981750</td>\n",
       "      <td>-73.967445</td>\n",
       "      <td>-61.335529</td>\n",
       "    </tr>\n",
       "    <tr>\n",
       "      <th>pickup_latitude</th>\n",
       "      <td>994056.0</td>\n",
       "      <td>40.750999</td>\n",
       "      <td>0.033417</td>\n",
       "      <td>34.359695</td>\n",
       "      <td>40.737423</td>\n",
       "      <td>40.754158</td>\n",
       "      <td>40.768387</td>\n",
       "      <td>51.881084</td>\n",
       "    </tr>\n",
       "    <tr>\n",
       "      <th>dropoff_longitude</th>\n",
       "      <td>994056.0</td>\n",
       "      <td>-73.973536</td>\n",
       "      <td>0.065040</td>\n",
       "      <td>-121.933304</td>\n",
       "      <td>-73.991341</td>\n",
       "      <td>-73.979782</td>\n",
       "      <td>-73.963120</td>\n",
       "      <td>-61.335529</td>\n",
       "    </tr>\n",
       "    <tr>\n",
       "      <th>dropoff_latitude</th>\n",
       "      <td>994056.0</td>\n",
       "      <td>40.751886</td>\n",
       "      <td>0.035482</td>\n",
       "      <td>34.359695</td>\n",
       "      <td>40.735981</td>\n",
       "      <td>40.754581</td>\n",
       "      <td>40.769844</td>\n",
       "      <td>43.921028</td>\n",
       "    </tr>\n",
       "    <tr>\n",
       "      <th>Distance</th>\n",
       "      <td>988147.0</td>\n",
       "      <td>3.458832</td>\n",
       "      <td>4.430494</td>\n",
       "      <td>0.000000</td>\n",
       "      <td>1.244912</td>\n",
       "      <td>2.104644</td>\n",
       "      <td>3.889889</td>\n",
       "      <td>1240.908677</td>\n",
       "    </tr>\n",
       "    <tr>\n",
       "      <th>trip_duration</th>\n",
       "      <td>994056.0</td>\n",
       "      <td>958.184723</td>\n",
       "      <td>3188.696197</td>\n",
       "      <td>61.000000</td>\n",
       "      <td>401.000000</td>\n",
       "      <td>665.000000</td>\n",
       "      <td>1078.000000</td>\n",
       "      <td>86392.000000</td>\n",
       "    </tr>\n",
       "  </tbody>\n",
       "</table>\n",
       "</div>"
      ],
      "text/plain": [
       "                      count        mean          std         min         25%  \\\n",
       "vendor_id          994056.0    1.535525     0.498737    1.000000    1.000000   \n",
       "passenger_count    994056.0    1.666779     1.316856    0.000000    1.000000   \n",
       "pickup_longitude   994056.0  -73.973591     0.065013 -121.933342  -73.991859   \n",
       "pickup_latitude    994056.0   40.750999     0.033417   34.359695   40.737423   \n",
       "dropoff_longitude  994056.0  -73.973536     0.065040 -121.933304  -73.991341   \n",
       "dropoff_latitude   994056.0   40.751886     0.035482   34.359695   40.735981   \n",
       "Distance           988147.0    3.458832     4.430494    0.000000    1.244912   \n",
       "trip_duration      994056.0  958.184723  3188.696197   61.000000  401.000000   \n",
       "\n",
       "                          50%          75%           max  \n",
       "vendor_id            2.000000     2.000000      2.000000  \n",
       "passenger_count      1.000000     2.000000      6.000000  \n",
       "pickup_longitude   -73.981750   -73.967445    -61.335529  \n",
       "pickup_latitude     40.754158    40.768387     51.881084  \n",
       "dropoff_longitude  -73.979782   -73.963120    -61.335529  \n",
       "dropoff_latitude    40.754581    40.769844     43.921028  \n",
       "Distance             2.104644     3.889889   1240.908677  \n",
       "trip_duration      665.000000  1078.000000  86392.000000  "
      ]
     },
     "execution_count": 39,
     "metadata": {},
     "output_type": "execute_result"
    }
   ],
   "source": [
    "df_train.describe().T"
   ]
  },
  {
   "cell_type": "markdown",
   "id": "8455cae2-1ecf-4aa6-93fd-1707bc05749a",
   "metadata": {},
   "source": [
    "For Now We Will Drop The NUll values in Distance, until we Make The BaseLine Model "
   ]
  },
  {
   "cell_type": "code",
   "execution_count": 40,
   "id": "4b92a760-62f0-4d6c-a591-58c6b31720c0",
   "metadata": {},
   "outputs": [
    {
     "data": {
      "text/plain": [
       "id                    0\n",
       "vendor_id             0\n",
       "pickup_datetime       0\n",
       "passenger_count       0\n",
       "pickup_longitude      0\n",
       "pickup_latitude       0\n",
       "dropoff_longitude     0\n",
       "dropoff_latitude      0\n",
       "store_and_fwd_flag    0\n",
       "Distance              0\n",
       "trip_duration         0\n",
       "dtype: int64"
      ]
     },
     "execution_count": 40,
     "metadata": {},
     "output_type": "execute_result"
    }
   ],
   "source": [
    "df_train = df_train[df_train['Distance'].notnull()]\n",
    "df_train.isna().sum()"
   ]
  },
  {
   "cell_type": "code",
   "execution_count": 41,
   "id": "a3704d0d-dc32-4241-a4de-eb0191e7478e",
   "metadata": {},
   "outputs": [
    {
     "data": {
      "text/plain": [
       "0         N\n",
       "1         N\n",
       "2         N\n",
       "3         N\n",
       "4         N\n",
       "         ..\n",
       "994051    N\n",
       "994052    N\n",
       "994053    N\n",
       "994054    N\n",
       "994055    N\n",
       "Name: store_and_fwd_flag, Length: 988147, dtype: object"
      ]
     },
     "execution_count": 41,
     "metadata": {},
     "output_type": "execute_result"
    }
   ],
   "source": [
    "df_train['store_and_fwd_flag']"
   ]
  },
  {
   "cell_type": "markdown",
   "id": "da7a733f-67c0-4c62-9c7c-5da54d74b8d5",
   "metadata": {},
   "source": [
    "This flag indicates whether the trip record was held in vehicle memory before\n",
    "sending to the vendor, aka “store and forward,” because the vehicle did not\n",
    "have a connection to the server.\n",
    "Y = store and forward trip\n",
    "N = not a store and forward trip"
   ]
  },
  {
   "cell_type": "markdown",
   "id": "203256a8-8b5d-4c54-8d3b-80b1e8ca681a",
   "metadata": {},
   "source": [
    "Let's Viualize How Many Store and Forward Trips "
   ]
  },
  {
   "cell_type": "code",
   "execution_count": 42,
   "id": "8d0668ed-d049-4872-a9a6-9c580c6c796b",
   "metadata": {},
   "outputs": [
    {
     "data": {
      "text/plain": [
       "store_and_fwd_flag\n",
       "N    982715\n",
       "Y      5432\n",
       "Name: count, dtype: int64"
      ]
     },
     "execution_count": 42,
     "metadata": {},
     "output_type": "execute_result"
    }
   ],
   "source": [
    "df_train['store_and_fwd_flag'].value_counts()"
   ]
  },
  {
   "cell_type": "code",
   "execution_count": 43,
   "id": "f828b2a3-6b7c-43af-a4f1-897b30ab4df8",
   "metadata": {},
   "outputs": [
    {
     "data": {
      "image/png": "[encoded data removed]",
      "text/plain": [
       "<Figure size 640x480 with 1 Axes>"
      ]
     },
     "metadata": {},
     "output_type": "display_data"
    }
   ],
   "source": [
    "status = ['Y = store and forward trip', 'N = not a store and forward trip']\n",
    "counts = [(df_train['store_and_fwd_flag'] == 'Y').sum(), (df_train['store_and_fwd_flag'] == 'N').sum()]\n",
    "plt.bar(status, counts)\n",
    "plt.title('store_and_fwd_status')\n",
    "plt.xlabel('Status')\n",
    "plt.ylabel('Counts')\n",
    "plt.tight_layout()\n",
    "plt.show()"
   ]
  },
  {
   "cell_type": "markdown",
   "id": "14dc76c1-9c11-4c62-a6b2-4e17a0be5032",
   "metadata": {},
   "source": [
    "Observation:\n",
    "- Y is not zero but it is very small if we compare it with N"
   ]
  },
  {
   "cell_type": "markdown",
   "id": "fce1836d-9fb4-489f-b55c-e2b25209b18f",
   "metadata": {},
   "source": [
    "I Noticed The Time Of The Trip Maybe Affecting The Trip Duration, Imagin You Drive Your Car About 3 or 5 am\n",
    "There is a big Chance To Reach Your Distnation Faster Than if You Drive Your Car in The Crowded Steets About 12 to 2 pm\n",
    ",so We Can Categorize The Time Zones Into about 3 or 4 categoreis \n",
    "- 12 am to 4 am\n",
    "- 5 am to 11 am\n",
    "- 12 pm to 4 pm\n",
    "- 5 pm to 11 pm\n",
    "\n",
    "Let's Binning the Time Data"
   ]
  },
  {
   "cell_type": "code",
   "execution_count": 44,
   "id": "c0331e90-c856-4cf1-9096-fb21dbe8348b",
   "metadata": {},
   "outputs": [],
   "source": [
    "df_train['pickup_datetime'] = pd.to_datetime(df_train['pickup_datetime'])\n",
    "\n",
    "df_train.insert(loc=len(df_train.columns) - 1, column='hour', value=df_train['pickup_datetime'].dt.hour)\n",
    "\n",
    "bins = [0, 4, 11, 16, 23]\n",
    "\n",
    "labels = [\"12 am to 4 am\", \"5 am to 11 am\", \"12 pm to 4 pm\", \"5 pm to 11 pm\"]\n",
    "\n",
    "df_train.insert(loc=len(df_train.columns) - 1, column='time_category', value=pd.cut(df_train['hour'], bins=bins, labels=labels, include_lowest=True))\n"
   ]
  },
  {
   "cell_type": "code",
   "execution_count": 45,
   "id": "c9a00230-44fe-476d-9a60-1f684ba10ded",
   "metadata": {},
   "outputs": [],
   "source": [
    "mapping = {\n",
    "    \"12 am to 4 am\": 1,\n",
    "    \"5 am to 11 am\": 2,\n",
    "    \"12 pm to 4 pm\": 4,\n",
    "    \"5 pm to 11 pm\": 3\n",
    "}\n",
    "\n",
    "df_train['time_category'] = df_train['time_category'].map(mapping)\n"
   ]
  },
  {
   "cell_type": "code",
   "execution_count": 46,
   "id": "7401d451-de9f-455a-bd98-c3de6f838161",
   "metadata": {},
   "outputs": [
    {
     "data": {
      "text/html": [
       "<div>\n",
       "<style scoped>\n",
       "    .dataframe tbody tr th:only-of-type {\n",
       "        vertical-align: middle;\n",
       "    }\n",
       "\n",
       "    .dataframe tbody tr th {\n",
       "        vertical-align: top;\n",
       "    }\n",
       "\n",
       "    .dataframe thead th {\n",
       "        text-align: right;\n",
       "    }\n",
       "</style>\n",
       "<table border=\"1\" class=\"dataframe\">\n",
       "  <thead>\n",
       "    <tr style=\"text-align: right;\">\n",
       "      <th></th>\n",
       "      <th>id</th>\n",
       "      <th>vendor_id</th>\n",
       "      <th>pickup_datetime</th>\n",
       "      <th>passenger_count</th>\n",
       "      <th>pickup_longitude</th>\n",
       "      <th>pickup_latitude</th>\n",
       "      <th>dropoff_longitude</th>\n",
       "      <th>dropoff_latitude</th>\n",
       "      <th>store_and_fwd_flag</th>\n",
       "      <th>Distance</th>\n",
       "      <th>hour</th>\n",
       "      <th>time_category</th>\n",
       "      <th>trip_duration</th>\n",
       "    </tr>\n",
       "  </thead>\n",
       "  <tbody>\n",
       "    <tr>\n",
       "      <th>0</th>\n",
       "      <td>id2793718</td>\n",
       "      <td>2</td>\n",
       "      <td>2016-06-08 07:36:19</td>\n",
       "      <td>1</td>\n",
       "      <td>-73.985611</td>\n",
       "      <td>40.735943</td>\n",
       "      <td>-73.980331</td>\n",
       "      <td>40.760468</td>\n",
       "      <td>N</td>\n",
       "      <td>2.763050</td>\n",
       "      <td>7</td>\n",
       "      <td>2</td>\n",
       "      <td>1040</td>\n",
       "    </tr>\n",
       "    <tr>\n",
       "      <th>1</th>\n",
       "      <td>id3485529</td>\n",
       "      <td>2</td>\n",
       "      <td>2016-04-03 12:58:11</td>\n",
       "      <td>1</td>\n",
       "      <td>-73.978394</td>\n",
       "      <td>40.764351</td>\n",
       "      <td>-73.991623</td>\n",
       "      <td>40.749859</td>\n",
       "      <td>N</td>\n",
       "      <td>1.959178</td>\n",
       "      <td>12</td>\n",
       "      <td>4</td>\n",
       "      <td>827</td>\n",
       "    </tr>\n",
       "    <tr>\n",
       "      <th>2</th>\n",
       "      <td>id1816614</td>\n",
       "      <td>2</td>\n",
       "      <td>2016-06-05 02:49:13</td>\n",
       "      <td>5</td>\n",
       "      <td>-73.989059</td>\n",
       "      <td>40.744389</td>\n",
       "      <td>-73.973381</td>\n",
       "      <td>40.748692</td>\n",
       "      <td>N</td>\n",
       "      <td>1.404772</td>\n",
       "      <td>2</td>\n",
       "      <td>1</td>\n",
       "      <td>614</td>\n",
       "    </tr>\n",
       "    <tr>\n",
       "      <th>3</th>\n",
       "      <td>id1050851</td>\n",
       "      <td>2</td>\n",
       "      <td>2016-05-05 17:18:27</td>\n",
       "      <td>2</td>\n",
       "      <td>-73.990326</td>\n",
       "      <td>40.731136</td>\n",
       "      <td>-73.991264</td>\n",
       "      <td>40.748917</td>\n",
       "      <td>N</td>\n",
       "      <td>1.978660</td>\n",
       "      <td>17</td>\n",
       "      <td>3</td>\n",
       "      <td>867</td>\n",
       "    </tr>\n",
       "    <tr>\n",
       "      <th>4</th>\n",
       "      <td>id0140657</td>\n",
       "      <td>1</td>\n",
       "      <td>2016-05-12 17:43:38</td>\n",
       "      <td>4</td>\n",
       "      <td>-73.789497</td>\n",
       "      <td>40.646675</td>\n",
       "      <td>-73.987137</td>\n",
       "      <td>40.759232</td>\n",
       "      <td>N</td>\n",
       "      <td>20.837745</td>\n",
       "      <td>17</td>\n",
       "      <td>3</td>\n",
       "      <td>4967</td>\n",
       "    </tr>\n",
       "  </tbody>\n",
       "</table>\n",
       "</div>"
      ],
      "text/plain": [
       "          id  vendor_id     pickup_datetime  passenger_count  \\\n",
       "0  id2793718          2 2016-06-08 07:36:19                1   \n",
       "1  id3485529          2 2016-04-03 12:58:11                1   \n",
       "2  id1816614          2 2016-06-05 02:49:13                5   \n",
       "3  id1050851          2 2016-05-05 17:18:27                2   \n",
       "4  id0140657          1 2016-05-12 17:43:38                4   \n",
       "\n",
       "   pickup_longitude  pickup_latitude  dropoff_longitude  dropoff_latitude  \\\n",
       "0        -73.985611        40.735943         -73.980331         40.760468   \n",
       "1        -73.978394        40.764351         -73.991623         40.749859   \n",
       "2        -73.989059        40.744389         -73.973381         40.748692   \n",
       "3        -73.990326        40.731136         -73.991264         40.748917   \n",
       "4        -73.789497        40.646675         -73.987137         40.759232   \n",
       "\n",
       "  store_and_fwd_flag   Distance  hour time_category  trip_duration  \n",
       "0                  N   2.763050     7             2           1040  \n",
       "1                  N   1.959178    12             4            827  \n",
       "2                  N   1.404772     2             1            614  \n",
       "3                  N   1.978660    17             3            867  \n",
       "4                  N  20.837745    17             3           4967  "
      ]
     },
     "execution_count": 46,
     "metadata": {},
     "output_type": "execute_result"
    }
   ],
   "source": [
    "df_train.head()"
   ]
  },
  {
   "cell_type": "code",
   "execution_count": 47,
   "id": "3caa71a9-7df7-4789-91ba-8815f871957c",
   "metadata": {
    "scrolled": true
   },
   "outputs": [],
   "source": [
    "df_train.drop(columns=[ 'id', 'pickup_datetime', 'store_and_fwd_flag' ,'hour'], inplace=True)"
   ]
  },
  {
   "cell_type": "markdown",
   "id": "0ed34584-f68a-49ff-b75c-9392de63f2b2",
   "metadata": {},
   "source": [
    "Now We Can Drop Id Column, However we shouldn't dropping the vendor id column because different vendors may providing \n",
    "different cars which mabye vendor 1 cars is faster than vendor 2 cars\n",
    "\n",
    "Now After Dropping Unimportant Columns And Replace Some Of Them by New Columns Like Time Category\n",
    "\n",
    "The Ascending Order Have Meaning The number 4 Means mostly crowded time Afficing the Time Duration\n",
    "\n",
    "and 1 is the minmum Crowdness in Roads from my common sense\n",
    "\n",
    "store_and_fwd_flag, i think this column doesn't have impact on the trip duration so i dropped it \n",
    "\n",
    "we Have replaced the pickup datetime"
   ]
  },
  {
   "cell_type": "code",
   "execution_count": 48,
   "id": "44f6e637-d885-4ac1-9b4f-30d1eecf3c6b",
   "metadata": {},
   "outputs": [
    {
     "data": {
      "text/html": [
       "<div>\n",
       "<style scoped>\n",
       "    .dataframe tbody tr th:only-of-type {\n",
       "        vertical-align: middle;\n",
       "    }\n",
       "\n",
       "    .dataframe tbody tr th {\n",
       "        vertical-align: top;\n",
       "    }\n",
       "\n",
       "    .dataframe thead th {\n",
       "        text-align: right;\n",
       "    }\n",
       "</style>\n",
       "<table border=\"1\" class=\"dataframe\">\n",
       "  <thead>\n",
       "    <tr style=\"text-align: right;\">\n",
       "      <th></th>\n",
       "      <th>vendor_id</th>\n",
       "      <th>passenger_count</th>\n",
       "      <th>pickup_longitude</th>\n",
       "      <th>pickup_latitude</th>\n",
       "      <th>dropoff_longitude</th>\n",
       "      <th>dropoff_latitude</th>\n",
       "      <th>Distance</th>\n",
       "      <th>time_category</th>\n",
       "      <th>trip_duration</th>\n",
       "    </tr>\n",
       "  </thead>\n",
       "  <tbody>\n",
       "    <tr>\n",
       "      <th>0</th>\n",
       "      <td>2</td>\n",
       "      <td>1</td>\n",
       "      <td>-73.985611</td>\n",
       "      <td>40.735943</td>\n",
       "      <td>-73.980331</td>\n",
       "      <td>40.760468</td>\n",
       "      <td>2.763050</td>\n",
       "      <td>2</td>\n",
       "      <td>1040</td>\n",
       "    </tr>\n",
       "    <tr>\n",
       "      <th>1</th>\n",
       "      <td>2</td>\n",
       "      <td>1</td>\n",
       "      <td>-73.978394</td>\n",
       "      <td>40.764351</td>\n",
       "      <td>-73.991623</td>\n",
       "      <td>40.749859</td>\n",
       "      <td>1.959178</td>\n",
       "      <td>4</td>\n",
       "      <td>827</td>\n",
       "    </tr>\n",
       "    <tr>\n",
       "      <th>2</th>\n",
       "      <td>2</td>\n",
       "      <td>5</td>\n",
       "      <td>-73.989059</td>\n",
       "      <td>40.744389</td>\n",
       "      <td>-73.973381</td>\n",
       "      <td>40.748692</td>\n",
       "      <td>1.404772</td>\n",
       "      <td>1</td>\n",
       "      <td>614</td>\n",
       "    </tr>\n",
       "    <tr>\n",
       "      <th>3</th>\n",
       "      <td>2</td>\n",
       "      <td>2</td>\n",
       "      <td>-73.990326</td>\n",
       "      <td>40.731136</td>\n",
       "      <td>-73.991264</td>\n",
       "      <td>40.748917</td>\n",
       "      <td>1.978660</td>\n",
       "      <td>3</td>\n",
       "      <td>867</td>\n",
       "    </tr>\n",
       "    <tr>\n",
       "      <th>4</th>\n",
       "      <td>1</td>\n",
       "      <td>4</td>\n",
       "      <td>-73.789497</td>\n",
       "      <td>40.646675</td>\n",
       "      <td>-73.987137</td>\n",
       "      <td>40.759232</td>\n",
       "      <td>20.837745</td>\n",
       "      <td>3</td>\n",
       "      <td>4967</td>\n",
       "    </tr>\n",
       "  </tbody>\n",
       "</table>\n",
       "</div>"
      ],
      "text/plain": [
       "   vendor_id  passenger_count  pickup_longitude  pickup_latitude  \\\n",
       "0          2                1        -73.985611        40.735943   \n",
       "1          2                1        -73.978394        40.764351   \n",
       "2          2                5        -73.989059        40.744389   \n",
       "3          2                2        -73.990326        40.731136   \n",
       "4          1                4        -73.789497        40.646675   \n",
       "\n",
       "   dropoff_longitude  dropoff_latitude   Distance time_category  trip_duration  \n",
       "0         -73.980331         40.760468   2.763050             2           1040  \n",
       "1         -73.991623         40.749859   1.959178             4            827  \n",
       "2         -73.973381         40.748692   1.404772             1            614  \n",
       "3         -73.991264         40.748917   1.978660             3            867  \n",
       "4         -73.987137         40.759232  20.837745             3           4967  "
      ]
     },
     "execution_count": 48,
     "metadata": {},
     "output_type": "execute_result"
    }
   ],
   "source": [
    "df_train.head()"
   ]
  }
 ],
 "metadata": {
  "kernelspec": {
   "display_name": "python-venv",
   "language": "python",
   "name": "python3"
  },
  "language_info": {
   "codemirror_mode": {
    "name": "ipython",
    "version": 3
   },
   "file_extension": ".py",
   "mimetype": "text/x-python",
   "name": "python",
   "nbconvert_exporter": "python",
   "pygments_lexer": "ipython3",
   "version": "3.13.3"
  }
 },
 "nbformat": 4,
 "nbformat_minor": 5
}
